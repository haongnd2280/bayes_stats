{
 "cells": [
  {
   "cell_type": "code",
   "execution_count": 11,
   "id": "afd90dd0",
   "metadata": {},
   "outputs": [
    {
     "ename": "ModuleNotFoundError",
     "evalue": "No module named 'empiricaldist'",
     "output_type": "error",
     "traceback": [
      "\u001b[1;31m---------------------------------------------------------------------------\u001b[0m",
      "\u001b[1;31mModuleNotFoundError\u001b[0m                       Traceback (most recent call last)",
      "Input \u001b[1;32mIn [11]\u001b[0m, in \u001b[0;36m<cell line: 7>\u001b[1;34m()\u001b[0m\n\u001b[0;32m      4\u001b[0m \u001b[38;5;28;01mimport\u001b[39;00m \u001b[38;5;21;01mseaborn\u001b[39;00m \u001b[38;5;28;01mas\u001b[39;00m \u001b[38;5;21;01msns\u001b[39;00m; sns\u001b[38;5;241m.\u001b[39mset()\n\u001b[0;32m      6\u001b[0m \u001b[38;5;28;01mfrom\u001b[39;00m \u001b[38;5;21;01mscipy\u001b[39;00m\u001b[38;5;21;01m.\u001b[39;00m\u001b[38;5;21;01mstats\u001b[39;00m \u001b[38;5;28;01mimport\u001b[39;00m gaussian_kde, norm \n\u001b[1;32m----> 7\u001b[0m \u001b[38;5;28;01mfrom\u001b[39;00m \u001b[38;5;21;01mempiricaldist\u001b[39;00m \u001b[38;5;28;01mimport\u001b[39;00m Pmf\n",
      "\u001b[1;31mModuleNotFoundError\u001b[0m: No module named 'empiricaldist'"
     ]
    }
   ],
   "source": [
    "import numpy as np \n",
    "import pandas as pd \n",
    "import matplotlib.pyplot as plt \n",
    "import seaborn as sns; sns.set()\n",
    "\n",
    "from scipy.stats import gaussian_kde, norm \n",
    "from empiricaldist import Pmf"
   ]
  },
  {
   "cell_type": "markdown",
   "id": "a14a36a0",
   "metadata": {},
   "source": [
    "# Prior "
   ]
  },
  {
   "cell_type": "code",
   "execution_count": null,
   "id": "c8ef7504",
   "metadata": {},
   "outputs": [],
   "source": [
    "def read_data(csv_fname): \n",
    "    \"\"\"Read the showcase price data.\n",
    "    \"\"\"\n",
    "    \n",
    "    df = pd.read_csv(csv_fname, index_col=0, skiprows=[1])\n",
    "    return df.dropna().transpose()"
   ]
  },
  {
   "cell_type": "code",
   "execution_count": null,
   "id": "57dbf612",
   "metadata": {},
   "outputs": [],
   "source": [
    "csv_fname_2011 = '../data/showcases.2011.csv'\n",
    "csv_fname_2012 = '../data/showcases.2012.csv'\n",
    "\n",
    "df_2011 = read_data(csv_fname_2011)\n",
    "df_2012 = read_data(csv_fname_2012)"
   ]
  },
  {
   "cell_type": "code",
   "execution_count": null,
   "id": "bd5d9995",
   "metadata": {},
   "outputs": [],
   "source": [
    "df_2011.head()"
   ]
  },
  {
   "cell_type": "code",
   "execution_count": null,
   "id": "6cec51f8",
   "metadata": {},
   "outputs": [],
   "source": [
    "df_2012.head()"
   ]
  },
  {
   "cell_type": "code",
   "execution_count": null,
   "id": "aef6c87c",
   "metadata": {},
   "outputs": [],
   "source": [
    "df_2011.info()"
   ]
  },
  {
   "cell_type": "code",
   "execution_count": null,
   "id": "8cdf9200",
   "metadata": {},
   "outputs": [],
   "source": [
    "df_2012.info()"
   ]
  },
  {
   "cell_type": "code",
   "execution_count": null,
   "id": "eab83475",
   "metadata": {},
   "outputs": [],
   "source": [
    "df = pd.concat([df_2011, df_2012], ignore_index=True)\n",
    "df.head()"
   ]
  },
  {
   "cell_type": "code",
   "execution_count": null,
   "id": "3af1dcd3",
   "metadata": {},
   "outputs": [],
   "source": [
    "df.info()"
   ]
  },
  {
   "cell_type": "markdown",
   "id": "6152487d",
   "metadata": {},
   "source": [
    "# Kernel density estimation"
   ]
  },
  {
   "cell_type": "markdown",
   "id": "95ca50cc",
   "metadata": {},
   "source": [
    "Ta coi dữ liệu ở trên là mẫu từ quần thể các mức giá có thể có. KDE sử dụng mẫu để ước lượng một phân phối mượt."
   ]
  },
  {
   "cell_type": "code",
   "execution_count": null,
   "id": "d48ec474",
   "metadata": {},
   "outputs": [],
   "source": [
    "def kde_from_sample(sample, qs): \n",
    "    \"\"\"Make a kernel density estimate from a sample.\n",
    "    \n",
    "    Params: \n",
    "    - qs: a sequence of quantiles.\n",
    "    \"\"\"\n",
    "    \n",
    "    kde = gaussian_kde(sample)\n",
    "    probs = kde(qs)\n",
    "    \n",
    "    pmf = Pmf(probs, qs)          # tạo pmf từ mảng qs và probs tương ứng \n",
    "    pmf.normalize()\n",
    "    \n",
    "    return pmf "
   ]
  },
  {
   "cell_type": "code",
   "execution_count": null,
   "id": "f309896b",
   "metadata": {},
   "outputs": [],
   "source": [
    "qs = np.linspace(0, 80_000, 81)    # start_val, stop_val, num \n",
    "prior_1 = kde_from_sample(df['Showcase 1'], qs)\n",
    "prior_2 = kde_from_sample(df['Showcase 2'], qs)\n",
    "\n",
    "plt.figure(figsize=(7, 5))\n",
    "plt.plot(prior_1.qs, prior_1.ps, linestyle='--', color='r')\n",
    "plt.plot(prior_2.qs, prior_2.ps, color='b')\n",
    "plt.xlabel('Showcase value ($)')\n",
    "plt.ylabel('pmf')\n",
    "plt.legend(['Prior 1', 'Prior 2'])\n",
    "plt.title('Prior distribution of showcase value')\n",
    "plt.show()"
   ]
  },
  {
   "cell_type": "markdown",
   "id": "81579650",
   "metadata": {},
   "source": [
    "# Distribution of error "
   ]
  },
  {
   "cell_type": "code",
   "execution_count": null,
   "id": "9cb8907a",
   "metadata": {},
   "outputs": [],
   "source": [
    "sample_diff_1 = df['Bid 1'] - df['Showcase 1']\n",
    "sample_diff_2 = df['Bid 2'] - df['Showcase 2']\n",
    "\n",
    "# visualize the distribution of these differences using KDE \n",
    "qs = np.linspace(-40_000, 20_000, 61)\n",
    "kde_diff_1 = kde_from_sample(sample_diff_1, qs) \n",
    "kde_diff_2 = kde_from_sample(sample_diff_2, qs)\n",
    "\n",
    "plt.figure(figsize=(7, 5))\n",
    "plt.plot(kde_diff_1.qs, kde_diff_1.ps, linestyle='--', color='r')\n",
    "plt.plot(kde_diff_2.qs, kde_diff_2.ps, linestyle='-', color='b')\n",
    "plt.xlabel('Difference in value (guess - actual) ($)')\n",
    "plt.ylabel('pmf')\n",
    "plt.legend(['Diff 1', 'Diff 2'])\n",
    "plt.title('Difference between bid and actual value')\n",
    "plt.show()"
   ]
  },
  {
   "cell_type": "markdown",
   "id": "9a70b35f",
   "metadata": {},
   "source": [
    "Nhận xét: \n",
    "- Nhìn vao hình vẽ trên, ta thấy đa phần mọi người đoán giá thấp hơn so với giá thực. Điều này là hợp lý vì mọi người đang làm theo thể lệ của cuộc chơi. Đoán cao hơn là thua luôn. Nên mọi người chủ động đưa ra giá bid thấp hơn giá dự đoán của họ.\n",
    "- Ví dụ: nếu họ dự đoán giá của showcase là $40_000, họ sẽ bid $36_000 để tránh giá cao hơn so với giá thực. \n",
    "- Phân phối trên khá giống với phân phối chuẩn (mặc dù đuôi trái dài hơn đuôi phải), vì thế ta sẽ tóm tắt nó bằng mean và std."
   ]
  },
  {
   "cell_type": "code",
   "execution_count": null,
   "id": "6a22e71d",
   "metadata": {},
   "outputs": [],
   "source": [
    "mean_diff_1 = sample_diff_1.mean()\n",
    "std_diff_1 = sample_diff_1.std()\n",
    "\n",
    "mean_diff_1, std_diff_1"
   ]
  },
  {
   "cell_type": "code",
   "execution_count": null,
   "id": "09f3d3d7",
   "metadata": {},
   "outputs": [],
   "source": [
    "error_dist_1 = norm(0, std_diff_1)    # normal distribution\n",
    "\n",
    "error = -100\n",
    "error_dist_1.pdf(error)               # prob density for error of -100 "
   ]
  },
  {
   "cell_type": "markdown",
   "id": "f752b432",
   "metadata": {},
   "source": [
    "Nhận xét: Nhìn vào std_diff_1 ở trên, mean 0, thì khi thấy prob density của sai số -100 rất bé, ta thấy khá bất ngờ. Nhưng có hai cách giải thích sau đây: \n",
    "- Một là, đây là prob density chứ kh phải prob, nên prob density chắc chắn nhỏ hơn prob.\n",
    "- Thứ hai, phân phối chuẩn ở trên rất rộng nên prob density bị dàn trải hơn nên prob density sẽ nhỏ hơn, chứ so với các giá trị khác thì sai số -100 vẫn lớn hơn nhiều. \n",
    "- Nhìn vào biểu đồ ở dưới thì ta đã chắn chắn là -100 có khả năng xảy ra lớn hơn các giá trị khác. "
   ]
  },
  {
   "cell_type": "code",
   "execution_count": null,
   "id": "b1ad6d71",
   "metadata": {},
   "outputs": [],
   "source": [
    "errors = np.arange(-25_000, 25_000)\n",
    "plt.figure(figsize=(10, 5)) \n",
    "plt.plot(errors, error_dist_1.pdf(errors))\n",
    "plt.axvline(x=-100, color='r', linestyle='--', lw=1)\n",
    "plt.xlabel('errors ($)')\n",
    "plt.ylabel('pdf')\n",
    "plt.legend(['Error 1', 'Error = -100'])\n",
    "plt.title('Error distribution of sample 1')\n",
    "plt.show()"
   ]
  },
  {
   "cell_type": "code",
   "execution_count": null,
   "id": "6d4d08e2",
   "metadata": {},
   "outputs": [],
   "source": []
  },
  {
   "cell_type": "code",
   "execution_count": null,
   "id": "2fba8029",
   "metadata": {},
   "outputs": [],
   "source": []
  },
  {
   "cell_type": "code",
   "execution_count": null,
   "id": "96d96af9",
   "metadata": {},
   "outputs": [],
   "source": []
  },
  {
   "cell_type": "code",
   "execution_count": null,
   "id": "d52fc763",
   "metadata": {},
   "outputs": [],
   "source": []
  },
  {
   "cell_type": "code",
   "execution_count": null,
   "id": "2c3f6645",
   "metadata": {},
   "outputs": [],
   "source": []
  }
 ],
 "metadata": {
  "kernelspec": {
   "display_name": "bayes_venv",
   "language": "python",
   "name": "bayes_venv"
  },
  "language_info": {
   "codemirror_mode": {
    "name": "ipython",
    "version": 3
   },
   "file_extension": ".py",
   "mimetype": "text/x-python",
   "name": "python",
   "nbconvert_exporter": "python",
   "pygments_lexer": "ipython3",
   "version": "3.8.4"
  }
 },
 "nbformat": 4,
 "nbformat_minor": 5
}
